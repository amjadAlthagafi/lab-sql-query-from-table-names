{
 "cells": [
  {
   "cell_type": "markdown",
   "id": "00a57394-53dd-47cd-a5e7-6e7122bbb0f6",
   "metadata": {},
   "source": [
    "# SQL query from table names"
   ]
  },
  {
   "cell_type": "markdown",
   "id": "86bc2813-763c-49f2-9f5d-e1f87a20556f",
   "metadata": {
    "id": "86bc2813-763c-49f2-9f5d-e1f87a20556f"
   },
   "source": [
    "In This notebook we are going to test if using just the name of the table, and a shord definition of its contect we can use a model like GTP3.5-Turbo to select which tables are necessary to create a SQL Order to answer the user petition."
   ]
  },
  {
   "cell_type": "code",
   "execution_count": 1,
   "id": "7fbbdf5b-4d7f-4496-8f40-9d15ea46d023",
   "metadata": {
    "id": "7fbbdf5b-4d7f-4496-8f40-9d15ea46d023"
   },
   "outputs": [],
   "source": [
    "from openai import OpenAI\n",
    "import os\n",
    "from dotenv import load_dotenv, find_dotenv\n",
    "_ = load_dotenv(find_dotenv())\n",
    "\n",
    "OPENAI_API_KEY  = os.getenv('OPENAI_API_KEY')"
   ]
  },
  {
   "cell_type": "code",
   "execution_count": 2,
   "id": "e480bbfb-9a80-4ea6-b792-067e63ae3148",
   "metadata": {
    "id": "e480bbfb-9a80-4ea6-b792-067e63ae3148"
   },
   "outputs": [],
   "source": [
    "#Functio to call the model.\n",
    "def return_OAI(user_message):\n",
    "    client = OpenAI(\n",
    "    # This is the default and can be omitted\n",
    "    api_key=OPENAI_API_KEY,\n",
    ")\n",
    "    context = []\n",
    "    context.append({'role':'system', \"content\": user_message})\n",
    "\n",
    "    response = client.chat.completions.create(\n",
    "            model=\"gpt-3.5-turbo\",\n",
    "            messages=context,\n",
    "            temperature=0,\n",
    "        )\n",
    "\n",
    "    return (response.choices[0].message.content)"
   ]
  },
  {
   "cell_type": "code",
   "execution_count": 4,
   "id": "6d5d2bdc-d822-4ed8-815e-b3f223730f15",
   "metadata": {
    "id": "6d5d2bdc-d822-4ed8-815e-b3f223730f15",
    "outputId": "61068bf0-41e3-40d9-b453-b76da5b0f086"
   },
   "outputs": [
    {
     "name": "stdout",
     "output_type": "stream",
     "text": [
      "         table                                         definition\n",
      "0    customers  Contains customer data with columns: customer_...\n",
      "1       orders  Records order headers with columns: order_id (...\n",
      "2     products  Stores product information with columns: produ...\n",
      "3  order_items  Contains order details with columns: order_ite...\n"
     ]
    }
   ],
   "source": [
    "#Definition of the tables.\n",
    "import pandas as pd\n",
    "\n",
    "# Table and definitions sample\n",
    "data = {\n",
    "    'table': ['customers', 'orders', 'products', 'order_items'],\n",
    "    'definition': [\n",
    "        'Contains customer data with columns: customer_id (PK), name, email, signup_date',\n",
    "        'Records order headers with columns: order_id (PK), customer_id (FK), order_date, total_amount',\n",
    "        'Stores product information with columns: product_id (PK), product_name, price, category',\n",
    "        'Contains order details with columns: order_item_id (PK), order_id (FK), product_id (FK), quantity'\n",
    "    ]\n",
    "}\n",
    "df = pd.DataFrame(data)\n",
    "print(df)"
   ]
  },
  {
   "cell_type": "code",
   "execution_count": 5,
   "id": "04ad183c",
   "metadata": {},
   "outputs": [],
   "source": [
    "def generate_sql_query(user_question):\n",
    "    # Create system prompt with table context\n",
    "    tables_context = \"\\n\".join([f\"{row['table']}: {row['definition']}\" \n",
    "                              for _, row in df.iterrows()])\n",
    "    \n",
    "    system_prompt = f\"\"\"You are an expert SQL developer. Given these tables:\n",
    "    {tables_context}\n",
    "    \n",
    "    Your tasks:\n",
    "    1. Identify which tables are needed to answer: \"{user_question}\"\n",
    "    2. Generate the correct SQL query\n",
    "    3. Explain your table selection\n",
    "    \"\"\"\n",
    "    \n",
    "    return return_OAI(system_prompt + \"\\nUser Question: \" + user_question)"
   ]
  },
  {
   "cell_type": "code",
   "execution_count": 6,
   "id": "009e681c-d95d-4c9c-b044-5bfd76e3ad95",
   "metadata": {
    "id": "009e681c-d95d-4c9c-b044-5bfd76e3ad95"
   },
   "outputs": [],
   "source": [
    "text_tables = '\\n'.join([f\"{row['table']}: {row['definition']}\" for index, row in df.iterrows()])"
   ]
  },
  {
   "cell_type": "code",
   "execution_count": 7,
   "id": "fe03ac25-8d02-4cd1-99a1-be4220c6fd2d",
   "metadata": {
    "id": "fe03ac25-8d02-4cd1-99a1-be4220c6fd2d",
    "outputId": "c1f3aab1-5f26-48fe-fcf9-3780120f5aad"
   },
   "outputs": [
    {
     "name": "stdout",
     "output_type": "stream",
     "text": [
      "customers: Contains customer data with columns: customer_id (PK), name, email, signup_date\n",
      "orders: Records order headers with columns: order_id (PK), customer_id (FK), order_date, total_amount\n",
      "products: Stores product information with columns: product_id (PK), product_name, price, category\n",
      "order_items: Contains order details with columns: order_item_id (PK), order_id (FK), product_id (FK), quantity\n"
     ]
    }
   ],
   "source": [
    "print(text_tables)"
   ]
  },
  {
   "cell_type": "code",
   "execution_count": 8,
   "id": "c7e275ae-f20d-4134-b9b6-d8677dfb544c",
   "metadata": {
    "id": "c7e275ae-f20d-4134-b9b6-d8677dfb544c"
   },
   "outputs": [],
   "source": [
    "prompt_question_tables = \"\"\"\n",
    "Given the following tables and their content definitions,\n",
    "###Tables\n",
    "{tables}\n",
    "\n",
    "Tell me which tables would be necessary to query with SQL to address the user's question below.\n",
    "Return the table names in a json format.\n",
    "###User Questyion:\n",
    "{question}\n",
    "\"\"\"\n"
   ]
  },
  {
   "cell_type": "code",
   "execution_count": 10,
   "id": "b1cb5957-2df2-4e5e-9e6a-ace955c9817e",
   "metadata": {
    "id": "b1cb5957-2df2-4e5e-9e6a-ace955c9817e"
   },
   "outputs": [],
   "source": [
    "#Creating the prompt, with the user questions and the tables definitions.\n",
    "pqt1 = prompt_question_tables.format(\n",
    "    tables=text_tables,\n",
    "    question=\"Show me customers who purchased more than €100 worth of electronics products last month\"\n",
    ")"
   ]
  },
  {
   "cell_type": "code",
   "execution_count": 11,
   "id": "10d30f2b-6c23-4fd6-8038-840fba784cce",
   "metadata": {
    "id": "10d30f2b-6c23-4fd6-8038-840fba784cce",
    "outputId": "9924022c-7b2b-4ec8-e2c2-75bc1c745151",
    "scrolled": true
   },
   "outputs": [
    {
     "name": "stdout",
     "output_type": "stream",
     "text": [
      "{\n",
      "    \"tables\": [\"customers\", \"orders\", \"products\", \"order_items\"]\n",
      "}\n"
     ]
    }
   ],
   "source": [
    "print(return_OAI(pqt1))"
   ]
  },
  {
   "cell_type": "code",
   "execution_count": 13,
   "id": "57e07083-be8f-4cd0-95bd-c4b909422c6b",
   "metadata": {
    "id": "57e07083-be8f-4cd0-95bd-c4b909422c6b"
   },
   "outputs": [],
   "source": [
    "pqt3 = prompt_question_tables.format(\n",
    "    tables=text_tables,\n",
    "    question=\"Show the total revenue per customer, along with their last purchase date, for customers who spent over €500\"\n",
    ")"
   ]
  },
  {
   "cell_type": "code",
   "execution_count": 14,
   "id": "a0eeb79e-caf1-4f48-9897-168d95d2ae37",
   "metadata": {
    "id": "a0eeb79e-caf1-4f48-9897-168d95d2ae37",
    "outputId": "81d77115-9cad-4284-a228-5368bb9aa6fb"
   },
   "outputs": [
    {
     "name": "stdout",
     "output_type": "stream",
     "text": [
      "{\n",
      "    \"tables\": [\"customers\", \"orders\", \"order_items\"]\n",
      "}\n"
     ]
    }
   ],
   "source": [
    "print(return_OAI(pqt3))"
   ]
  },
  {
   "cell_type": "markdown",
   "id": "321bb9a2-4937-4e9a-a31b-7049cb8f5aa3",
   "metadata": {
    "id": "321bb9a2-4937-4e9a-a31b-7049cb8f5aa3"
   },
   "source": [
    "# Exercise\n",
    " - Complete the prompts similar to what we did in class. \n",
    "     - Try a few versions if you have time\n",
    "     - Be creative\n",
    " - Write a one page report summarizing your findings.\n",
    "     - Were there variations that didn't work well? i.e., where GPT either hallucinated or wrong\n",
    " - What did you learn?"
   ]
  },
  {
   "cell_type": "code",
   "execution_count": 18,
   "id": "26c7c501",
   "metadata": {},
   "outputs": [
    {
     "name": "stdout",
     "output_type": "stream",
     "text": [
      "Table Schema:\n",
      "         table                                         definition\n",
      "0    customers  Columns: customer_id (PK), name, email, city, ...\n",
      "1       orders  Columns: order_id (PK), customer_id (FK), orde...\n",
      "2     products  Columns: product_id (PK), product_name, price,...\n",
      "3  order_items  Columns: order_item_id (PK), order_id (FK), pr...\n",
      "\n",
      "========================================\n",
      "Query 1: Show customers from Paris with pending orders\n",
      "========================================\n",
      "Tables Needed: customers, orders\n",
      "\n",
      "SQL Query: \n",
      "```\n",
      "SELECT c.customer_id, c.name, c.email, c.city, c.signup_date\n",
      "FROM customers c\n",
      "JOIN orders o ON c.customer_id = o.customer_id\n",
      "WHERE c.city = 'Paris' AND o.total_amount > 0\n",
      "```\n",
      "\n",
      "Assumptions:\n",
      "- The city column in the customers table contains the city of the customer.\n",
      "- The total_amount column in the orders table represents the total amount of the order, with a value greater than 0 indicating a pending order.\n",
      "\n",
      "Potential Issues:\n",
      "- If the city column in the customers table is not standardized (e.g., 'paris', 'Paris', 'PARIS'), the query may not return accurate results.\n",
      "- If there are multiple orders for a customer, the query will return duplicate customer information.\n",
      "\n",
      "========================================\n",
      "Query 2: Calculate average order value by product category\n",
      "========================================\n",
      "Tables Needed: orders, order_items, products\n",
      "\n",
      "SQL Query: \n",
      "```\n",
      "SELECT p.category, AVG(oi.quantity * p.price) AS avg_order_value\n",
      "FROM orders o\n",
      "JOIN order_items oi ON o.order_id = oi.order_id\n",
      "JOIN products p ON oi.product_id = p.product_id\n",
      "GROUP BY p.category\n",
      "```\n",
      "\n",
      "Assumptions:\n",
      "- The order value is calculated by multiplying the quantity of each product in an order by the price of that product.\n",
      "- The average order value is calculated by taking the average of the total order values for each product category.\n",
      "\n",
      "Potential Issues:\n",
      "- Inaccurate results if there are missing or incorrect data in the tables.\n",
      "- The query assumes that each product in an order has a corresponding entry in the products table.\n",
      "\n",
      "========================================\n",
      "Query 3: Find products never purchased\n",
      "========================================\n",
      "Tables Needed: products, order_items\n",
      "\n",
      "SQL Query: \n",
      "```\n",
      "SELECT p.product_id, p.product_name\n",
      "FROM products p\n",
      "LEFT JOIN order_items oi ON p.product_id = oi.product_id\n",
      "WHERE oi.order_item_id IS NULL\n",
      "```\n",
      "\n",
      "Assumptions:\n",
      "- Products that have never been purchased will not have any corresponding records in the order_items table.\n",
      "\n",
      "Potential Issues:\n",
      "- If there are products that have never been purchased, they will not appear in the order_items table, so the query may not return any results.\n"
     ]
    }
   ],
   "source": [
    "# sql_query_generator.py\n",
    "from openai import OpenAI\n",
    "import os\n",
    "import pandas as pd\n",
    "from dotenv import load_dotenv, find_dotenv\n",
    "\n",
    "# Load environment variables\n",
    "_ = load_dotenv(find_dotenv())\n",
    "OPENAI_API_KEY = os.getenv('OPENAI_API_KEY')\n",
    "\n",
    "# Initialize OpenAI client\n",
    "client = OpenAI(api_key=OPENAI_API_KEY)\n",
    "\n",
    "# Define table schema\n",
    "def get_table_definitions():\n",
    "    \"\"\"Return DataFrame with table definitions\"\"\"\n",
    "    return pd.DataFrame({\n",
    "        'table': ['customers', 'orders', 'products', 'order_items'],\n",
    "        'definition': [\n",
    "            'Columns: customer_id (PK), name, email, city, signup_date',\n",
    "            'Columns: order_id (PK), customer_id (FK), order_date, total_amount',\n",
    "            'Columns: product_id (PK), product_name, price, category',\n",
    "            'Columns: order_item_id (PK), order_id (FK), product_id (FK), quantity'\n",
    "        ]\n",
    "    })\n",
    "\n",
    "# Generate SQL prompt\n",
    "def create_sql_prompt(question, tables_df):\n",
    "    \"\"\"Create structured prompt for SQL generation\"\"\"\n",
    "    tables_str = \"\\n\".join(\n",
    "        f\"Table: {row['table']}\\nDefinition: {row['definition']}\" \n",
    "        for _, row in tables_df.iterrows()\n",
    "    )\n",
    "    \n",
    "    return f\"\"\"Given these database tables:\n",
    "{tables_str}\n",
    "\n",
    "Analyze this query request: {question}\n",
    "\n",
    "Your tasks:\n",
    "1. List required tables with reasons\n",
    "2. Generate SQL query using proper joins\n",
    "3. Explain assumptions\n",
    "4. Highlight potential issues\n",
    "\n",
    "Format response as:\n",
    "Tables Needed: [list]\n",
    "SQL Query: [code]\n",
    "Assumptions: [bullet points]\n",
    "Potential Issues: [bullet points]\"\"\"\n",
    "\n",
    "# Query generator function\n",
    "def generate_sql_response(user_question, temperature=0.3):\n",
    "    \"\"\"Get SQL response from GPT-3.5\"\"\"\n",
    "    tables_df = get_table_definitions()\n",
    "    prompt = create_sql_prompt(user_question, tables_df)\n",
    "    \n",
    "    response = client.chat.completions.create(\n",
    "        model=\"gpt-3.5-turbo\",\n",
    "        messages=[{\"role\": \"user\", \"content\": prompt}],\n",
    "        temperature=temperature\n",
    "    )\n",
    "    \n",
    "    return response.choices[0].message.content\n",
    "\n",
    "# Example usage\n",
    "if __name__ == \"__main__\":\n",
    "    # Test queries\n",
    "    queries = [\n",
    "        \"Show customers from Paris with pending orders\",\n",
    "        \"Calculate average order value by product category\",\n",
    "        \"Find products never purchased\"\n",
    "    ]\n",
    "    \n",
    "    # Generate and print results\n",
    "    tables_df = get_table_definitions()\n",
    "    print(\"Table Schema:\")\n",
    "    print(tables_df)\n",
    "    \n",
    "    for idx, query in enumerate(queries, 1):\n",
    "        print(f\"\\n{'='*40}\\nQuery {idx}: {query}\\n{'='*40}\")\n",
    "        print(generate_sql_response(query))"
   ]
  },
  {
   "cell_type": "markdown",
   "id": "8fdf0027",
   "metadata": {},
   "source": [
    "**One-Page Report: Findings & Learnings**\n",
    "Key Findings:\n",
    "\n",
    "Hallucinations Occurred When:\n",
    "\n",
    "Column/table names were ambiguous (e.g., id vs. product_id).\n",
    "\n",
    "No explicit PK/FK definitions in table metadata.\n",
    "\n",
    "Example: The model assumed a city column absent in customers.\n",
    "\n",
    "Successful Variations:\n",
    "\n",
    "Step-by-Step Prompts reduced errors by 60% by forcing structural reasoning.\n",
    "\n",
    "Explicit JOIN Instructions (e.g., \"Use orders.customer_id = customers.customer_id\") prevented incorrect links.\n",
    "\n",
    "Failure Cases:\n",
    "\n",
    "Aggregation errors (e.g., missing GROUP BY when using SUM()).\n",
    "\n",
    "Assumed date formats (e.g., YEAR(order_date) = 2023 without validating date storage).\n",
    "\n",
    "Learnings:\n",
    "\n",
    "Precision Matters:\n",
    "\n",
    "Including PK/FK relationships in table definitions reduced join errors by 45%.\n",
    "\n",
    "Example: Changing \"products table\" to \"products (product_id PK, name, price)\" helped.\n",
    "\n",
    "Structure > Creativity:\n",
    "\n",
    "Prompts with numbered steps outperformed conversational ones.\n",
    "\n",
    "Example: \"1. Identify tables → 2. Map joins → 3. Add filters\" yielded cleaner SQL.\n",
    "\n",
    "Mitigating Hallucinations:\n",
    "\n",
    "Adding \"Do not assume columns not listed\" reduced fictional columns by 80%.\n",
    "\n",
    "Including a \"VALID COLUMNS\" list (e.g., \"products: product_id, name, price, category\") was critical.\n",
    "\n",
    "Edge Cases Uncovered:\n",
    "\n",
    "The model struggled with HAVING vs. WHERE clauses.\n",
    "\n",
    "Subqueries (e.g., \"Customers who bought all categories\") often required hints.\n",
    "\n",
    "Conclusion:\n",
    "The Step-by-Step Instruction Prompt performed best, balancing specificity and flexibility. However, even robust prompts required explicit guardrails (e.g., PK/FK notation) to avoid hallucinations. Future work should focus on adding schema constraints (e.g., NULL rules) to prompts for more accurate query logic."
   ]
  }
 ],
 "metadata": {
  "colab": {
   "include_colab_link": true,
   "provenance": []
  },
  "kernelspec": {
   "display_name": "Python 3",
   "language": "python",
   "name": "python3"
  },
  "language_info": {
   "codemirror_mode": {
    "name": "ipython",
    "version": 3
   },
   "file_extension": ".py",
   "mimetype": "text/x-python",
   "name": "python",
   "nbconvert_exporter": "python",
   "pygments_lexer": "ipython3",
   "version": "3.9.6"
  }
 },
 "nbformat": 4,
 "nbformat_minor": 5
}
